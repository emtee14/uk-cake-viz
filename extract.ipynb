{
 "cells": [
  {
   "cell_type": "code",
   "execution_count": null,
   "metadata": {},
   "outputs": [],
   "source": [
    "import sys\n",
    "!{sys.executable} -m pip install polars praw"
   ]
  },
  {
   "cell_type": "code",
   "execution_count": 76,
   "metadata": {},
   "outputs": [],
   "source": [
    "import re\n",
    "import praw\n",
    "import polars as pl"
   ]
  },
  {
   "cell_type": "code",
   "execution_count": 2,
   "metadata": {},
   "outputs": [
    {
     "name": "stdout",
     "output_type": "stream",
     "text": [
      "True\n"
     ]
    }
   ],
   "source": [
    "\n",
    "reddit = praw.Reddit(\n",
    "    client_id=\"\",\n",
    "    client_secret=\"\",\n",
    "    user_agent=\"Comment Extraction (by u/emtee14_)\",\n",
    ")\n",
    "print(reddit.read_only)"
   ]
  },
  {
   "cell_type": "code",
   "execution_count": 87,
   "metadata": {},
   "outputs": [
    {
     "name": "stdout",
     "output_type": "stream",
     "text": [
      "loading comments\n",
      "loaded comments\n"
     ]
    }
   ],
   "source": [
    "url = \"https://www.reddit.com/r/CasualUK/comments/12jgwhq/what_you_going_for/\"\n",
    "submission = reddit.submission(url=url)\n",
    "\n",
    "print(\"loading comments\")\n",
    "submission.comments.replace_more(limit=None)\n",
    "print(\"loaded comments\")"
   ]
  },
  {
   "cell_type": "code",
   "execution_count": 88,
   "metadata": {},
   "outputs": [],
   "source": [
    "combinations = []\n",
    "\n",
    "combo_regex = re.compile(r\"[A-f] ?[1-6] ?[A-f]\")\n",
    "for comment in submission.comments.list():\n",
    "    try:\n",
    "        reply = comment.body \n",
    "        combo = combo_regex.findall(reply)\n",
    "        if combo != []:\n",
    "            choices = combo[0].replace(\" \", \"\").upper()\n",
    "            combinations.append(\n",
    "                list(choices) + [comment.score]\n",
    "            )\n",
    "    except KeyError:\n",
    "        pass"
   ]
  },
  {
   "cell_type": "code",
   "execution_count": 97,
   "metadata": {},
   "outputs": [
    {
     "data": {
      "text/plain": [
       "10700"
      ]
     },
     "execution_count": 97,
     "metadata": {},
     "output_type": "execute_result"
    }
   ],
   "source": [
    "df = pl.DataFrame(weighted_combinations, schema=[\"tea\", \"sandwich\", \"cake\"], orient=\"row\")\n",
    "df.head()\n",
    "len(df)\n"
   ]
  },
  {
   "cell_type": "code",
   "execution_count": 90,
   "metadata": {},
   "outputs": [],
   "source": [
    "popular_tea = df.groupby(\"tea\").count().filter(pl.col(\"count\") > 10).sort(by=\"count\", descending=True)\n",
    "popular_sandwich = df.groupby(\"sandwich\").count().filter(pl.col(\"count\") > 10).sort(by=\"count\", descending=True)\n",
    "popular_cakes = df.groupby(\"cake\").count().filter(pl.col(\"count\") > 10).sort(by=\"count\", descending=True)"
   ]
  },
  {
   "cell_type": "code",
   "execution_count": 101,
   "metadata": {},
   "outputs": [
    {
     "name": "stdout",
     "output_type": "stream",
     "text": [
      "shape: (5, 2)\n",
      "┌─────────────┬───────┐\n",
      "│ combination ┆ count │\n",
      "│ ---         ┆ ---   │\n",
      "│ str         ┆ u32   │\n",
      "╞═════════════╪═══════╡\n",
      "│ C4B         ┆ 1562  │\n",
      "│ C4A         ┆ 954   │\n",
      "│ C4E         ┆ 919   │\n",
      "│ C4C         ┆ 631   │\n",
      "│ C2E         ┆ 605   │\n",
      "└─────────────┴───────┘\n"
     ]
    }
   ],
   "source": [
    "popular_combinations = df.with_columns([\n",
    "            (pl.col(\"tea\") + pl.col(\"sandwich\") + pl.col(\"cake\")).alias(\"combination\")\n",
    "]).groupby(\"combination\").count().filter(pl.col(\"count\") > 10).sort(by=\"count\", descending=True).limit(10)\n",
    "print(popular_combinations.head())"
   ]
  },
  {
   "cell_type": "code",
   "execution_count": 93,
   "metadata": {},
   "outputs": [
    {
     "data": {
      "text/html": [
       "<div><style>\n",
       ".dataframe > thead > tr > th,\n",
       ".dataframe > tbody > tr > td {\n",
       "  text-align: right;\n",
       "}\n",
       "</style>\n",
       "<small>shape: (5, 2)</small><table border=\"1\" class=\"dataframe\"><thead><tr><th>tea</th><th>count</th></tr><tr><td>str</td><td>u32</td></tr></thead><tbody><tr><td>&quot;C&quot;</td><td>7332</td></tr><tr><td>&quot;B&quot;</td><td>1242</td></tr><tr><td>&quot;F&quot;</td><td>1128</td></tr><tr><td>&quot;D&quot;</td><td>625</td></tr><tr><td>&quot;E&quot;</td><td>205</td></tr></tbody></table></div>"
      ],
      "text/plain": [
       "shape: (5, 2)\n",
       "┌─────┬───────┐\n",
       "│ tea ┆ count │\n",
       "│ --- ┆ ---   │\n",
       "│ str ┆ u32   │\n",
       "╞═════╪═══════╡\n",
       "│ C   ┆ 7332  │\n",
       "│ B   ┆ 1242  │\n",
       "│ F   ┆ 1128  │\n",
       "│ D   ┆ 625   │\n",
       "│ E   ┆ 205   │\n",
       "└─────┴───────┘"
      ]
     },
     "execution_count": 93,
     "metadata": {},
     "output_type": "execute_result"
    }
   ],
   "source": [
    "popular_tea.head()"
   ]
  },
  {
   "cell_type": "code",
   "execution_count": 94,
   "metadata": {},
   "outputs": [
    {
     "data": {
      "text/html": [
       "<div><style>\n",
       ".dataframe > thead > tr > th,\n",
       ".dataframe > tbody > tr > td {\n",
       "  text-align: right;\n",
       "}\n",
       "</style>\n",
       "<small>shape: (5, 2)</small><table border=\"1\" class=\"dataframe\"><thead><tr><th>sandwich</th><th>count</th></tr><tr><td>str</td><td>u32</td></tr></thead><tbody><tr><td>&quot;4&quot;</td><td>5328</td></tr><tr><td>&quot;3&quot;</td><td>1630</td></tr><tr><td>&quot;2&quot;</td><td>1339</td></tr><tr><td>&quot;1&quot;</td><td>1253</td></tr><tr><td>&quot;5&quot;</td><td>617</td></tr></tbody></table></div>"
      ],
      "text/plain": [
       "shape: (5, 2)\n",
       "┌──────────┬───────┐\n",
       "│ sandwich ┆ count │\n",
       "│ ---      ┆ ---   │\n",
       "│ str      ┆ u32   │\n",
       "╞══════════╪═══════╡\n",
       "│ 4        ┆ 5328  │\n",
       "│ 3        ┆ 1630  │\n",
       "│ 2        ┆ 1339  │\n",
       "│ 1        ┆ 1253  │\n",
       "│ 5        ┆ 617   │\n",
       "└──────────┴───────┘"
      ]
     },
     "execution_count": 94,
     "metadata": {},
     "output_type": "execute_result"
    }
   ],
   "source": [
    "popular_sandwich.head()"
   ]
  },
  {
   "cell_type": "code",
   "execution_count": 96,
   "metadata": {},
   "outputs": [
    {
     "data": {
      "text/html": [
       "<div><style>\n",
       ".dataframe > thead > tr > th,\n",
       ".dataframe > tbody > tr > td {\n",
       "  text-align: right;\n",
       "}\n",
       "</style>\n",
       "<small>shape: (6, 2)</small><table border=\"1\" class=\"dataframe\"><thead><tr><th>cake</th><th>count</th></tr><tr><td>str</td><td>u32</td></tr></thead><tbody><tr><td>&quot;B&quot;</td><td>3119</td></tr><tr><td>&quot;A&quot;</td><td>2542</td></tr><tr><td>&quot;E&quot;</td><td>2355</td></tr><tr><td>&quot;C&quot;</td><td>1472</td></tr><tr><td>&quot;F&quot;</td><td>825</td></tr><tr><td>&quot;D&quot;</td><td>376</td></tr></tbody></table></div>"
      ],
      "text/plain": [
       "shape: (6, 2)\n",
       "┌──────┬───────┐\n",
       "│ cake ┆ count │\n",
       "│ ---  ┆ ---   │\n",
       "│ str  ┆ u32   │\n",
       "╞══════╪═══════╡\n",
       "│ B    ┆ 3119  │\n",
       "│ A    ┆ 2542  │\n",
       "│ E    ┆ 2355  │\n",
       "│ C    ┆ 1472  │\n",
       "│ F    ┆ 825   │\n",
       "│ D    ┆ 376   │\n",
       "└──────┴───────┘"
      ]
     },
     "execution_count": 96,
     "metadata": {},
     "output_type": "execute_result"
    }
   ],
   "source": [
    "popular_cakes"
   ]
  }
 ],
 "metadata": {
  "kernelspec": {
   "display_name": ".venv",
   "language": "python",
   "name": "python3"
  },
  "language_info": {
   "codemirror_mode": {
    "name": "ipython",
    "version": 3
   },
   "file_extension": ".py",
   "mimetype": "text/x-python",
   "name": "python",
   "nbconvert_exporter": "python",
   "pygments_lexer": "ipython3",
   "version": "3.10.10"
  },
  "orig_nbformat": 4
 },
 "nbformat": 4,
 "nbformat_minor": 2
}
